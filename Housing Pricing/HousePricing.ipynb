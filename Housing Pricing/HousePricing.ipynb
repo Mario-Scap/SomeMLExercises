{
 "cells": [
  {
   "cell_type": "code",
   "execution_count": 1,
   "id": "0394ceca",
   "metadata": {
    "execution": {
     "iopub.execute_input": "2022-09-08T09:11:40.062233Z",
     "iopub.status.busy": "2022-09-08T09:11:40.061443Z",
     "iopub.status.idle": "2022-09-08T09:11:40.123720Z",
     "shell.execute_reply": "2022-09-08T09:11:40.122468Z"
    },
    "papermill": {
     "duration": 0.070199,
     "end_time": "2022-09-08T09:11:40.126478",
     "exception": false,
     "start_time": "2022-09-08T09:11:40.056279",
     "status": "completed"
    },
    "tags": []
   },
   "outputs": [],
   "source": [
    "# Set up code checking\n",
    "#from learntools.core import binder\n",
    "#binder.bind(globals())\n",
    "#from learntools.machine_learning.ex7 import *\n",
    "\n",
    "# Set up filepaths\n",
    "#import os\n",
    "#if not os.path.exists(\"train.csv\"):\n",
    "    #os.symlink(\"../input/home-data-for-ml-course/train.csv\", \"../input/train.csv\")  \n",
    "    #os.symlink(\"../input/home-data-for-ml-course/test.csv\", \"../input/test.csv\") "
   ]
  },
  {
   "cell_type": "code",
   "execution_count": 2,
   "id": "b9f9259f",
   "metadata": {
    "execution": {
     "iopub.execute_input": "2022-09-08T09:11:40.142100Z",
     "iopub.status.busy": "2022-09-08T09:11:40.141443Z",
     "iopub.status.idle": "2022-09-08T09:11:41.972889Z",
     "shell.execute_reply": "2022-09-08T09:11:41.971230Z"
    },
    "papermill": {
     "duration": 1.838613,
     "end_time": "2022-09-08T09:11:41.975259",
     "exception": false,
     "start_time": "2022-09-08T09:11:40.136646",
     "status": "completed"
    },
    "tags": []
   },
   "outputs": [
    {
     "name": "stdout",
     "output_type": "stream",
     "text": [
      "Validation MAE for Random Forest Model: 21,857\n"
     ]
    }
   ],
   "source": [
    "# Import helpful libraries\n",
    "import pandas as pd\n",
    "from sklearn.ensemble import RandomForestRegressor\n",
    "from sklearn.metrics import mean_absolute_error\n",
    "from sklearn.model_selection import train_test_split\n",
    "\n",
    "# Load the data, and separate the target\n",
    "iowa_file_path = 'train.csv'\n",
    "home_data = pd.read_csv(iowa_file_path)\n",
    "y = home_data.SalePrice\n",
    "\n",
    "# Create X (After completing the exercise, you can return to modify this line!)\n",
    "features = ['LotArea', 'YearBuilt', '1stFlrSF', '2ndFlrSF', 'FullBath', 'BedroomAbvGr', 'TotRmsAbvGrd']\n",
    "\n",
    "# Select columns corresponding to features, and preview the data\n",
    "X = home_data[features]\n",
    "X.head()\n",
    "\n",
    "# Split into validation and training data\n",
    "train_X, val_X, train_y, val_y = train_test_split(X, y, random_state=1)\n",
    "\n",
    "# Define a random forest model\n",
    "rf_model = RandomForestRegressor(random_state=1)\n",
    "rf_model.fit(train_X, train_y)\n",
    "rf_val_predictions = rf_model.predict(val_X)\n",
    "rf_val_mae = mean_absolute_error(rf_val_predictions, val_y)\n",
    "\n",
    "print(\"Validation MAE for Random Forest Model: {:,.0f}\".format(rf_val_mae))"
   ]
  },
  {
   "cell_type": "markdown",
   "id": "8e741595",
   "metadata": {
    "papermill": {
     "duration": 0.00328,
     "end_time": "2022-09-08T09:11:41.982852",
     "exception": false,
     "start_time": "2022-09-08T09:11:41.979572",
     "status": "completed"
    },
    "tags": []
   },
   "source": [
    "# Train a model \n",
    "\n",
    "The code cell above trains a Random Forest model on **`train_X`** and **`train_y`**.  "
   ]
  },
  {
   "cell_type": "code",
   "execution_count": 3,
   "id": "d84a8676",
   "metadata": {
    "execution": {
     "iopub.execute_input": "2022-09-08T09:11:41.992419Z",
     "iopub.status.busy": "2022-09-08T09:11:41.992015Z",
     "iopub.status.idle": "2022-09-08T09:11:42.459037Z",
     "shell.execute_reply": "2022-09-08T09:11:42.458315Z"
    },
    "papermill": {
     "duration": 0.47463,
     "end_time": "2022-09-08T09:11:42.461033",
     "exception": false,
     "start_time": "2022-09-08T09:11:41.986403",
     "status": "completed"
    },
    "tags": []
   },
   "outputs": [
    {
     "name": "stdout",
     "output_type": "stream",
     "text": [
      "Validation MAE for Random Forest Model: 8,299\n"
     ]
    }
   ],
   "source": [
    "# To improve accuracy, create a new Random Forest model which you will train on all training data\n",
    "rf_model_on_full_data = RandomForestRegressor()\n",
    "\n",
    "# fit rf_model_on_full_data on all data from the training data\n",
    "rf_model_on_full_data.fit(X, y)\n",
    "model_predict = rf_model_on_full_data.predict(X)\n",
    "rf_val_mae = mean_absolute_error(model_predict, y)\n",
    "print(\"Validation MAE for Random Forest Model: {:,.0f}\".format(rf_val_mae))\n"
   ]
  },
  {
   "cell_type": "markdown",
   "id": "1fd429ff",
   "metadata": {
    "papermill": {
     "duration": 0.003195,
     "end_time": "2022-09-08T09:11:42.467966",
     "exception": false,
     "start_time": "2022-09-08T09:11:42.464771",
     "status": "completed"
    },
    "tags": []
   },
   "source": [
    "Now, read the file of \"test\" data, and apply your model to make predictions."
   ]
  },
  {
   "cell_type": "code",
   "execution_count": 4,
   "id": "7df3e1be",
   "metadata": {
    "execution": {
     "iopub.execute_input": "2022-09-08T09:11:42.477053Z",
     "iopub.status.busy": "2022-09-08T09:11:42.476057Z",
     "iopub.status.idle": "2022-09-08T09:11:42.545074Z",
     "shell.execute_reply": "2022-09-08T09:11:42.543946Z"
    },
    "papermill": {
     "duration": 0.075694,
     "end_time": "2022-09-08T09:11:42.547069",
     "exception": false,
     "start_time": "2022-09-08T09:11:42.471375",
     "status": "completed"
    },
    "tags": []
   },
   "outputs": [
    {
     "data": {
      "application/javascript": "parent.postMessage({\"jupyterEvent\": \"custom.exercise_interaction\", \"data\": {\"outcomeType\": 1, \"valueTowardsCompletion\": 1.0, \"interactionType\": 1, \"questionType\": 2, \"questionId\": \"1_CheckSubmittablePreds\", \"learnToolsVersion\": \"0.3.4\", \"failureMessage\": \"\", \"exceptionClass\": \"\", \"trace\": \"\"}}, \"*\")",
      "text/plain": [
       "<IPython.core.display.Javascript object>"
      ]
     },
     "metadata": {},
     "output_type": "display_data"
    },
    {
     "data": {
      "text/markdown": [
       "<span style=\"color:#33cc33\">Correct</span>"
      ],
      "text/plain": [
       "Correct"
      ]
     },
     "metadata": {},
     "output_type": "display_data"
    }
   ],
   "source": [
    "# path to file you will use for predictions\n",
    "test_data_path = '../input/test.csv'\n",
    "\n",
    "# read test data file using pandas\n",
    "test_data = pd.read_csv(test_data_path)\n",
    "test_data.columns\n",
    "\n",
    "#y= test_data.SaleCondition\n",
    "\n",
    "# create test_X which comes from test_data but includes only the columns you used for prediction.\n",
    "# The list of columns is stored in a variable called features\n",
    "test_X = test_data[features]\n",
    "test_X.head()\n",
    "\n",
    "test_preds = rf_model_on_full_data.predict(test_X)\n",
    "# make predictions which we will submit. "
   ]
  },
  {
   "cell_type": "markdown",
   "id": "8809ee5c",
   "metadata": {
    "papermill": {
     "duration": 0.0037,
     "end_time": "2022-09-08T09:11:42.581293",
     "exception": false,
     "start_time": "2022-09-08T09:11:42.577593",
     "status": "completed"
    },
    "tags": []
   },
   "source": [
    "# Generate a submission\n",
    "\n",
    " generate a CSV file with your predictions"
   ]
  },
  {
   "cell_type": "code",
   "execution_count": 6,
   "id": "e0cc0d96",
   "metadata": {
    "execution": {
     "iopub.execute_input": "2022-09-08T09:11:42.591333Z",
     "iopub.status.busy": "2022-09-08T09:11:42.590288Z",
     "iopub.status.idle": "2022-09-08T09:11:42.602814Z",
     "shell.execute_reply": "2022-09-08T09:11:42.601761Z"
    },
    "papermill": {
     "duration": 0.020037,
     "end_time": "2022-09-08T09:11:42.605230",
     "exception": false,
     "start_time": "2022-09-08T09:11:42.585193",
     "status": "completed"
    },
    "tags": []
   },
   "outputs": [],
   "source": [
    "# Run the code to save predictions in the format used for competition scoring\n",
    "\n",
    "output = pd.DataFrame({'Id': test_data.Id,\n",
    "                       'SalePrice': test_preds})\n",
    "output.to_csv('submission.csv', index=False, header=1)"
   ]
  },
  {
   "cell_type": "markdown",
   "id": "d637eace",
   "metadata": {
    "papermill": {
     "duration": 0.003565,
     "end_time": "2022-09-08T09:11:42.620920",
     "exception": false,
     "start_time": "2022-09-08T09:11:42.617355",
     "status": "completed"
    },
    "tags": []
   },
   "source": [
    "---\n",
    "\n",
    "\n",
    "\n",
    "\n",
    "*Have questions or comments? Visit the [course discussion forum](https://www.kaggle.com/learn/intro-to-machine-learning/discussion) to chat with other learners.*"
   ]
  }
 ],
 "metadata": {
  "kernelspec": {
   "display_name": "Python 3.8.5 ('base')",
   "language": "python",
   "name": "python3"
  },
  "language_info": {
   "codemirror_mode": {
    "name": "ipython",
    "version": 3
   },
   "file_extension": ".py",
   "mimetype": "text/x-python",
   "name": "python",
   "nbconvert_exporter": "python",
   "pygments_lexer": "ipython3",
   "version": "3.8.5"
  },
  "papermill": {
   "default_parameters": {},
   "duration": 12.160023,
   "end_time": "2022-09-08T09:11:43.449580",
   "environment_variables": {},
   "exception": null,
   "input_path": "__notebook__.ipynb",
   "output_path": "__notebook__.ipynb",
   "parameters": {},
   "start_time": "2022-09-08T09:11:31.289557",
   "version": "2.3.4"
  },
  "vscode": {
   "interpreter": {
    "hash": "8713ca3b77628a4414cb19afecce4be886be5a2f883480e0c3ed66d57c8d45ba"
   }
  }
 },
 "nbformat": 4,
 "nbformat_minor": 5
}
