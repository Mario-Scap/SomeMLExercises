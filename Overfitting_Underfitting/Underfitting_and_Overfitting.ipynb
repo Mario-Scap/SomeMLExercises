{
 "cells": [
  {
   "cell_type": "code",
   "execution_count": null,
   "id": "ffa9ac98",
   "metadata": {
    "execution": {
     "iopub.execute_input": "2022-09-08T08:33:17.025247Z",
     "iopub.status.busy": "2022-09-08T08:33:17.024813Z",
     "iopub.status.idle": "2022-09-08T08:33:18.571019Z",
     "shell.execute_reply": "2022-09-08T08:33:18.569482Z"
    },
    "papermill": {
     "duration": 1.556006,
     "end_time": "2022-09-08T08:33:18.575091",
     "exception": false,
     "start_time": "2022-09-08T08:33:17.019085",
     "status": "completed"
    },
    "tags": []
   },
   "outputs": [],
   "source": [
    "# Code you have previously used to load data\n",
    "import pandas as pd\n",
    "from sklearn.metrics import mean_absolute_error\n",
    "from sklearn.model_selection import train_test_split\n",
    "from sklearn.tree import DecisionTreeRegressor\n",
    "\n",
    "\n",
    "# Path of the file to read\n",
    "iowa_file_path = 'train.csv'\n",
    "\n",
    "home_data = pd.read_csv(iowa_file_path)\n",
    "# Create target object and call it y\n",
    "y = home_data.SalePrice\n",
    "# Create X\n",
    "features = ['LotArea', 'YearBuilt', '1stFlrSF', '2ndFlrSF', 'FullBath', 'BedroomAbvGr', 'TotRmsAbvGrd']\n",
    "X = home_data[features]\n",
    "\n",
    "# Split into validation and training data\n",
    "train_X, val_X, train_y, val_y = train_test_split(X, y, random_state=1)\n",
    "\n",
    "# Specify Model\n",
    "iowa_model = DecisionTreeRegressor(random_state=1)\n",
    "# Fit Model\n",
    "iowa_model.fit(train_X, train_y)\n",
    "\n",
    "# Make validation predictions and calculate mean absolute error\n",
    "val_predictions = iowa_model.predict(val_X)\n",
    "val_mae = mean_absolute_error(val_predictions, val_y)\n",
    "print(\"Validation MAE: {:,.0f}\".format(val_mae))"
   ]
  },
  {
   "cell_type": "code",
   "execution_count": null,
   "id": "cc446b1c",
   "metadata": {
    "execution": {
     "iopub.execute_input": "2022-09-08T08:33:18.599696Z",
     "iopub.status.busy": "2022-09-08T08:33:18.598534Z",
     "iopub.status.idle": "2022-09-08T08:33:18.604449Z",
     "shell.execute_reply": "2022-09-08T08:33:18.603633Z"
    },
    "papermill": {
     "duration": 0.015534,
     "end_time": "2022-09-08T08:33:18.606627",
     "exception": false,
     "start_time": "2022-09-08T08:33:18.591093",
     "status": "completed"
    },
    "tags": []
   },
   "outputs": [],
   "source": [
    "def get_mae(max_leaf_nodes, train_X, val_X, train_y, val_y):\n",
    "    model = DecisionTreeRegressor(max_leaf_nodes=max_leaf_nodes, random_state=0)\n",
    "    model.fit(train_X, train_y)\n",
    "    preds_val = model.predict(val_X)\n",
    "    mae = mean_absolute_error(val_y, preds_val)\n",
    "    return(mae)"
   ]
  },
  {
   "cell_type": "markdown",
   "id": "9bded4fd",
   "metadata": {
    "papermill": {
     "duration": 0.003392,
     "end_time": "2022-09-08T08:33:18.613779",
     "exception": false,
     "start_time": "2022-09-08T08:33:18.610387",
     "status": "completed"
    },
    "tags": []
   },
   "source": [
    "## Compare Different Tree Sizes"
   ]
  },
  {
   "cell_type": "code",
   "execution_count": null,
   "id": "e1ebb334",
   "metadata": {
    "execution": {
     "iopub.execute_input": "2022-09-08T08:33:18.623362Z",
     "iopub.status.busy": "2022-09-08T08:33:18.622736Z",
     "iopub.status.idle": "2022-09-08T08:33:18.709695Z",
     "shell.execute_reply": "2022-09-08T08:33:18.708018Z"
    },
    "papermill": {
     "duration": 0.095879,
     "end_time": "2022-09-08T08:33:18.713414",
     "exception": false,
     "start_time": "2022-09-08T08:33:18.617535",
     "status": "completed"
    },
    "tags": []
   },
   "outputs": [],
   "source": [
    "candidate_max_leaf_nodes = [5, 25, 50, 100, 250, 500]\n",
    "# Write loop to find the ideal tree size from candidate_max_leaf_nodes\n",
    "for max_leaf in candidate_max_leaf_nodes:\n",
    "    mae= get_mae(max_leaf,train_X, val_X, train_y, val_y)\n",
    "    print(\"Max leaf nodes: %d  \\t\\t Mean Absolute Error:  %d\" %(max_leaf, mae))\n",
    "        \n",
    "# Store the best value of max_leaf_nodes (it will be either 5, 25, 50, 100, 250 or 500)\n",
    "scores = {leaf_size: get_mae(leaf_size,train_X, val_X, train_y, val_y) for leaf_size in candidate_max_leaf_nodes}\n",
    "best_tree_size = min(scores, key=scores.get)\n",
    "#print('\\n')\n",
    "print(best_tree_size)\n",
    "print (scores)\n",
    "print('\\n')\n"
   ]
  },
  {
   "cell_type": "markdown",
   "id": "48af3bd1",
   "metadata": {
    "papermill": {
     "duration": 0.00387,
     "end_time": "2022-09-08T08:33:18.739638",
     "exception": false,
     "start_time": "2022-09-08T08:33:18.735768",
     "status": "completed"
    },
    "tags": []
   },
   "source": [
    "## Step 2: Fit Model Using All Data"
   ]
  },
  {
   "cell_type": "code",
   "execution_count": null,
   "id": "e4bc4f68",
   "metadata": {
    "execution": {
     "iopub.execute_input": "2022-09-08T08:33:18.749754Z",
     "iopub.status.busy": "2022-09-08T08:33:18.749333Z",
     "iopub.status.idle": "2022-09-08T08:33:18.768024Z",
     "shell.execute_reply": "2022-09-08T08:33:18.766813Z"
    },
    "papermill": {
     "duration": 0.027348,
     "end_time": "2022-09-08T08:33:18.771263",
     "exception": false,
     "start_time": "2022-09-08T08:33:18.743915",
     "status": "completed"
    },
    "tags": []
   },
   "outputs": [],
   "source": [
    "# Fill in argument to make optimal size and uncomment\n",
    "final_model = DecisionTreeRegressor(max_leaf_nodes=best_tree_size, random_state=1)\n",
    "\n",
    "# fit the final model and uncomment the next two lines\n",
    "final_model.fit(X, y)"
   ]
  },
  {
   "cell_type": "markdown",
   "id": "b8607e35",
   "metadata": {
    "papermill": {
     "duration": 0.003771,
     "end_time": "2022-09-08T08:33:18.804804",
     "exception": false,
     "start_time": "2022-09-08T08:33:18.801033",
     "status": "completed"
    },
    "tags": []
   },
   "source": [
    "---\n",
    "\n",
    "\n",
    "\n",
    "\n",
    "*Have questions or comments? Visit the [course discussion forum](https://www.kaggle.com/learn/intro-to-machine-learning/discussion) to chat with other learners.*"
   ]
  }
 ],
 "metadata": {
  "kernelspec": {
   "display_name": "Python 3.8.5 ('base')",
   "language": "python",
   "name": "python3"
  },
  "language_info": {
   "codemirror_mode": {
    "name": "ipython",
    "version": 3
   },
   "file_extension": ".py",
   "mimetype": "text/x-python",
   "name": "python",
   "nbconvert_exporter": "python",
   "pygments_lexer": "ipython3",
   "version": "3.8.5"
  },
  "papermill": {
   "default_parameters": {},
   "duration": 11.657579,
   "end_time": "2022-09-08T08:33:19.631041",
   "environment_variables": {},
   "exception": null,
   "input_path": "__notebook__.ipynb",
   "output_path": "__notebook__.ipynb",
   "parameters": {},
   "start_time": "2022-09-08T08:33:07.973462",
   "version": "2.3.4"
  },
  "vscode": {
   "interpreter": {
    "hash": "8713ca3b77628a4414cb19afecce4be886be5a2f883480e0c3ed66d57c8d45ba"
   }
  }
 },
 "nbformat": 4,
 "nbformat_minor": 5
}
